{
 "cells": [
  {
   "cell_type": "code",
   "execution_count": 1,
   "metadata": {
    "ExecuteTime": {
     "end_time": "2021-05-15T16:13:25.444284Z",
     "start_time": "2021-05-15T16:13:22.233721Z"
    }
   },
   "outputs": [
    {
     "name": "stderr",
     "output_type": "stream",
     "text": [
      "Using TensorFlow backend.\n"
     ]
    }
   ],
   "source": [
    "#头文件\n",
    "import os\n",
    "import numpy as np\n",
    "import pandas as pd\n",
    "import math\n",
    "from pandas import DataFrame\n",
    "from xml.etree import ElementTree as ET\n",
    "import matplotlib.pyplot as plt\n",
    "from keras.models import Sequential\n",
    "from keras.optimizers import Adam\n",
    "from sklearn.preprocessing import MinMaxScaler\n",
    "from sklearn import metrics\n",
    "from keras.layers import Dense, Dropout, LSTM, Conv1D, MaxPooling1D\n",
    "from keras.layers import *\n",
    "from datetime import date\n",
    "from keras.models import *\n",
    "import tensorflow as tf "
   ]
  },
  {
   "cell_type": "code",
   "execution_count": 2,
   "metadata": {
    "ExecuteTime": {
     "end_time": "2021-05-15T16:13:26.104689Z",
     "start_time": "2021-05-15T16:13:25.444284Z"
    }
   },
   "outputs": [],
   "source": [
    "#释放gpu\n",
    "from numba import cuda\n",
    "cuda.select_device(0)\n",
    "cuda.close()"
   ]
  },
  {
   "cell_type": "code",
   "execution_count": 3,
   "metadata": {
    "ExecuteTime": {
     "end_time": "2021-05-15T16:13:26.678241Z",
     "start_time": "2021-05-15T16:13:26.107685Z"
    }
   },
   "outputs": [],
   "source": [
    "os.environ['KERAS_BACKEND']='tensorflow'\n",
    "os.environ['CUDA_VISIBLE_DEVICES']=\"0\"\n",
    "config=tf.compat.v1.ConfigProto() \n",
    "config.gpu_options.visible_device_list = '0' \n",
    "config.gpu_options.allow_growth = True \n",
    "config.gpu_options.per_process_gpu_memory_fraction = 0.7\n",
    "sess=tf.compat.v1.Session(config=config)"
   ]
  },
  {
   "cell_type": "code",
   "execution_count": 4,
   "metadata": {
    "ExecuteTime": {
     "end_time": "2021-05-15T16:13:41.340746Z",
     "start_time": "2021-05-15T16:13:26.682227Z"
    }
   },
   "outputs": [
    {
     "data": {
      "text/plain": [
       "(10773, 23, 23)"
      ]
     },
     "execution_count": 4,
     "metadata": {},
     "output_type": "execute_result"
    }
   ],
   "source": [
    "#读取数据\n",
    "dataset=[]\n",
    "def data_load():\n",
    "    path='./traffic-matrices'\n",
    "    FileList = os.listdir(path)\n",
    "    for files in FileList:\n",
    "        oldDirPath = path+'/'+files\n",
    "        per=ET.parse(oldDirPath)\n",
    "        p=per.findall('./IntraTM/src')\n",
    "        matrix=np.zeros((23,23))\n",
    "        for child in p:\n",
    "            src=child.attrib['id']\n",
    "            c=child.findall('dst')\n",
    "            for i in c:\n",
    "                dst=i.attrib['id']\n",
    "                matrix[int(src)-1][int(dst)-1]=i.text\n",
    "        dataset.append(matrix)\n",
    "    datasets = np.array(dataset)\n",
    "    return datasets\n",
    "datasets = data_load()\n",
    "datasets.shape"
   ]
  },
  {
   "cell_type": "code",
   "execution_count": 5,
   "metadata": {
    "ExecuteTime": {
     "end_time": "2021-05-15T16:13:42.210602Z",
     "start_time": "2021-05-15T16:13:41.341744Z"
    }
   },
   "outputs": [],
   "source": [
    "#二维流量矩阵转一维\n",
    "data = []\n",
    "for i in range(len(datasets)):\n",
    "    arr = []\n",
    "    for row in datasets[i]:\n",
    "        arr.extend(row)\n",
    "    data.append(arr)\n",
    "data = np.array(data)\n",
    "data = data[:,40]"
   ]
  },
  {
   "cell_type": "code",
   "execution_count": 6,
   "metadata": {
    "ExecuteTime": {
     "end_time": "2021-05-15T16:13:42.242518Z",
     "start_time": "2021-05-15T16:13:42.211600Z"
    }
   },
   "outputs": [
    {
     "name": "stdout",
     "output_type": "stream",
     "text": [
      "(4720, 1) (4600, 120, 1) (4600, 1) (170, 120, 1) (170, 1)\n"
     ]
    }
   ],
   "source": [
    "#划分训练集和验证集\n",
    "time_stamp = 120\n",
    "train = data[6000:10600+time_stamp].reshape(-1,1)\n",
    "valid = data[10600-time_stamp:-3].reshape(-1,1)\n",
    "#归一化\n",
    "scaler1 = MinMaxScaler(feature_range=(0, 1)) \n",
    "#训练集\n",
    "scaled_data = scaler1.fit_transform(train)\n",
    "x_train, y_train = [], []\n",
    "for i in range(time_stamp, len(train)):\n",
    "    x_train.append(scaled_data[i - time_stamp:i])\n",
    "    y_train.append(scaled_data[i])\n",
    "x_train,y_train= np.array(x_train),np.array(y_train)\n",
    "y_train = y_train.reshape(-1,1)\n",
    "#验证集\n",
    "scaled_data2 = scaler1.transform(valid)\n",
    "x_valid, y_valid = [], []\n",
    "for i in range(time_stamp, len(valid)):\n",
    "    x_valid.append(scaled_data2[i - time_stamp:i])\n",
    "    y_valid.append(scaled_data2[i])\n",
    "x_valid,y_valid = np.array(x_valid),np.array(y_valid)  \n",
    "y_valid = y_valid.reshape(-1,1)\n",
    "print(train.shape,x_train.shape,y_train.shape,x_valid.shape,y_valid.shape)"
   ]
  },
  {
   "cell_type": "code",
   "execution_count": null,
   "metadata": {
    "ExecuteTime": {
     "start_time": "2021-05-15T16:13:22.237Z"
    }
   },
   "outputs": [
    {
     "name": "stdout",
     "output_type": "stream",
     "text": [
      "Train on 4600 samples, validate on 170 samples\n",
      "Epoch 1/80\n",
      "4600/4600 [==============================] - 8s 2ms/step - loss: 0.0090 - val_loss: 0.0022\n",
      "Epoch 2/80\n",
      "4600/4600 [==============================] - 5s 1ms/step - loss: 0.0024 - val_loss: 0.0017\n",
      "Epoch 3/80\n",
      "4600/4600 [==============================] - 6s 1ms/step - loss: 0.0021 - val_loss: 0.0014\n",
      "Epoch 4/80\n",
      "4600/4600 [==============================] - 5s 1ms/step - loss: 0.0014 - val_loss: 9.6162e-04\n",
      "Epoch 5/80\n",
      "4600/4600 [==============================] - 6s 1ms/step - loss: 0.0012 - val_loss: 7.3131e-04\n",
      "Epoch 6/80\n",
      "4600/4600 [==============================] - 7s 2ms/step - loss: 9.9993e-04 - val_loss: 7.9168e-04\n",
      "Epoch 7/80\n",
      "4600/4600 [==============================] - 7s 2ms/step - loss: 0.0010 - val_loss: 6.4638e-04\n",
      "Epoch 8/80\n",
      "4600/4600 [==============================] - 6s 1ms/step - loss: 0.0010 - val_loss: 0.0013\n",
      "Epoch 9/80\n",
      "4600/4600 [==============================] - 8s 2ms/step - loss: 9.7249e-04 - val_loss: 6.3072e-04\n",
      "Epoch 10/80\n",
      "4600/4600 [==============================] - 6s 1ms/step - loss: 9.0005e-04 - val_loss: 6.2485e-04\n",
      "Epoch 11/80\n",
      "4600/4600 [==============================] - 6s 1ms/step - loss: 8.5747e-04 - val_loss: 7.2109e-04\n",
      "Epoch 12/80\n",
      "4600/4600 [==============================] - 10s 2ms/step - loss: 8.8800e-04 - val_loss: 6.0925e-04\n",
      "Epoch 13/80\n",
      "4600/4600 [==============================] - 8s 2ms/step - loss: 9.5986e-04 - val_loss: 6.2795e-04\n",
      "Epoch 14/80\n",
      "4600/4600 [==============================] - 9s 2ms/step - loss: 8.6608e-04 - val_loss: 6.2851e-04\n",
      "Epoch 15/80\n",
      "4600/4600 [==============================] - 10s 2ms/step - loss: 8.3773e-04 - val_loss: 6.8034e-04\n",
      "Epoch 16/80\n",
      "4600/4600 [==============================] - 8s 2ms/step - loss: 8.4393e-04 - val_loss: 0.0011\n",
      "Epoch 17/80\n",
      "4600/4600 [==============================] - 13s 3ms/step - loss: 8.4808e-04 - val_loss: 6.0008e-04\n",
      "Epoch 18/80\n",
      "4600/4600 [==============================] - 11s 2ms/step - loss: 8.2335e-04 - val_loss: 5.9474e-04\n",
      "Epoch 19/80\n",
      "4600/4600 [==============================] - 8s 2ms/step - loss: 7.9957e-04 - val_loss: 8.7832e-04\n",
      "Epoch 20/80\n",
      "4600/4600 [==============================] - 10s 2ms/step - loss: 8.3987e-04 - val_loss: 5.8986e-04\n",
      "Epoch 21/80\n",
      "4600/4600 [==============================] - 13s 3ms/step - loss: 7.7604e-04 - val_loss: 7.0017e-04\n",
      "Epoch 22/80\n",
      "4600/4600 [==============================] - 13s 3ms/step - loss: 8.0114e-04 - val_loss: 0.0012\n",
      "Epoch 23/80\n",
      "4600/4600 [==============================] - 11s 2ms/step - loss: 8.4040e-04 - val_loss: 8.0228e-04\n",
      "Epoch 24/80\n",
      "4600/4600 [==============================] - 13s 3ms/step - loss: 8.2079e-04 - val_loss: 6.1080e-04\n",
      "Epoch 25/80\n",
      "4600/4600 [==============================] - 13s 3ms/step - loss: 8.1449e-04 - val_loss: 6.1710e-04s -\n",
      "Epoch 26/80\n",
      "4600/4600 [==============================] - 12s 3ms/step - loss: 7.6420e-04 - val_loss: 6.4578e-04\n",
      "Epoch 27/80\n",
      "4600/4600 [==============================] - 13s 3ms/step - loss: 8.0949e-04 - val_loss: 7.3460e-04\n",
      "Epoch 28/80\n",
      "4600/4600 [==============================] - 12s 3ms/step - loss: 7.5687e-04 - val_loss: 6.2915e-04\n",
      "Epoch 29/80\n",
      "4600/4600 [==============================] - 12s 3ms/step - loss: 7.7287e-04 - val_loss: 8.2028e-04\n",
      "Epoch 30/80\n",
      "4600/4600 [==============================] - 13s 3ms/step - loss: 8.3460e-04 - val_loss: 5.6205e-04\n",
      "Epoch 31/80\n",
      "4600/4600 [==============================] - 13s 3ms/step - loss: 7.3508e-04 - val_loss: 6.0091e-04\n",
      "Epoch 32/80\n",
      "4600/4600 [==============================] - 13s 3ms/step - loss: 7.2732e-04 - val_loss: 5.5320e-04: 5s - loss: 8.6904 - ETA: 4s - ETA: 1s - loss: 7\n",
      "Epoch 33/80\n",
      "4600/4600 [==============================] - 14s 3ms/step - loss: 7.7185e-04 - val_loss: 8.2610e-04\n",
      "Epoch 34/80\n",
      "4600/4600 [==============================] - 13s 3ms/step - loss: 7.7881e-04 - val_loss: 5.6329e-04\n",
      "Epoch 35/80\n",
      "4600/4600 [==============================] - 13s 3ms/step - loss: 7.3271e-04 - val_loss: 5.6395e-04\n",
      "Epoch 36/80\n",
      "4600/4600 [==============================] - 13s 3ms/step - loss: 7.2072e-04 - val_loss: 7.3502e-04ss: 7.4418e - ETA: 1s - loss: 7.\n",
      "Epoch 37/80\n",
      "4600/4600 [==============================] - 14s 3ms/step - loss: 7.4763e-04 - val_loss: 5.5197e-04\n",
      "Epoch 38/80\n",
      "4600/4600 [==============================] - 13s 3ms/step - loss: 8.1262e-04 - val_loss: 5.9020e-04\n",
      "Epoch 39/80\n",
      "4600/4600 [==============================] - 13s 3ms/step - loss: 7.9813e-04 - val_loss: 6.7855e-04\n",
      "Epoch 40/80\n",
      "4600/4600 [==============================] - 13s 3ms/step - loss: 7.5475e-04 - val_loss: 5.4631e-04\n",
      "Epoch 41/80\n",
      "4600/4600 [==============================] - 13s 3ms/step - loss: 7.4272e-04 - val_loss: 6.1069e-04\n",
      "Epoch 42/80\n",
      "4600/4600 [==============================] - 13s 3ms/step - loss: 7.7056e-04 - val_loss: 5.6346e-04\n",
      "Epoch 43/80\n",
      "4600/4600 [==============================] - 13s 3ms/step - loss: 7.4299e-04 - val_loss: 5.8802e-04\n",
      "Epoch 44/80\n",
      "4600/4600 [==============================] - 13s 3ms/step - loss: 7.8025e-04 - val_loss: 5.9017e-04\n",
      "Epoch 45/80\n",
      "4600/4600 [==============================] - 13s 3ms/step - loss: 7.3882e-04 - val_loss: 5.4060e-04\n",
      "Epoch 46/80\n",
      "4600/4600 [==============================] - 13s 3ms/step - loss: 7.4408e-04 - val_loss: 5.9474e-04\n",
      "Epoch 47/80\n",
      "4600/4600 [==============================] - 14s 3ms/step - loss: 7.0537e-04 - val_loss: 7.9987e-04\n",
      "Epoch 48/80\n",
      "4600/4600 [==============================] - 13s 3ms/step - loss: 7.4126e-04 - val_loss: 5.4796e-04\n",
      "Epoch 49/80\n",
      "4600/4600 [==============================] - 13s 3ms/step - loss: 7.3764e-04 - val_loss: 5.2037e-04 0s - loss: 7.517\n",
      "Epoch 50/80\n",
      "4600/4600 [==============================] - 13s 3ms/step - loss: 7.3158e-04 - val_loss: 5.3951e-04\n",
      "Epoch 51/80\n",
      "4600/4600 [==============================] - 14s 3ms/step - loss: 7.3965e-04 - val_loss: 6.7358e-04 - ETA: 2s - loss: 7.696 - ETA: 1s - loss: 7.57\n",
      "Epoch 52/80\n",
      "4600/4600 [==============================] - 13s 3ms/step - loss: 7.8026e-04 - val_loss: 7.9254e-04\n",
      "Epoch 53/80\n",
      "4600/4600 [==============================] - 13s 3ms/step - loss: 7.2718e-04 - val_loss: 5.7096e-04 \n",
      "Epoch 54/80\n",
      "4600/4600 [==============================] - 13s 3ms/step - loss: 7.3049e-04 - val_loss: 5.2633e-04\n",
      "Epoch 55/80\n",
      "4600/4600 [==============================] - 13s 3ms/step - loss: 6.9945e-04 - val_loss: 8.1467e-04\n",
      "Epoch 56/80\n",
      "4600/4600 [==============================] - 13s 3ms/step - loss: 7.5633e-04 - val_loss: 8.9822e-04\n",
      "Epoch 57/80\n",
      "4600/4600 [==============================] - 13s 3ms/step - loss: 7.3537e-04 - val_loss: 5.5413e-04\n",
      "Epoch 58/80\n",
      "4600/4600 [==============================] - 13s 3ms/step - loss: 6.9230e-04 - val_loss: 6.8629e-04\n",
      "Epoch 59/80\n",
      "4600/4600 [==============================] - 13s 3ms/step - loss: 7.8736e-04 - val_loss: 5.2682e-04\n",
      "Epoch 60/80\n",
      "4600/4600 [==============================] - 14s 3ms/step - loss: 7.2251e-04 - val_loss: 6.4743e-04\n",
      "Epoch 61/80\n",
      "4600/4600 [==============================] - 13s 3ms/step - loss: 8.0194e-04 - val_loss: 5.0395e-04- los\n",
      "Epoch 62/80\n",
      "4600/4600 [==============================] - 13s 3ms/step - loss: 7.1568e-04 - val_loss: 6.0296e-04\n",
      "Epoch 63/80\n",
      "4600/4600 [==============================] - 13s 3ms/step - loss: 7.0448e-04 - val_loss: 5.2830e-04\n",
      "Epoch 64/80\n",
      "4600/4600 [==============================] - 13s 3ms/step - loss: 7.1376e-04 - val_loss: 0.0010\n",
      "Epoch 65/80\n",
      "4600/4600 [==============================] - 13s 3ms/step - loss: 7.1508e-04 - val_loss: 7.1696e-04\n",
      "Epoch 66/80\n",
      "4600/4600 [==============================] - 14s 3ms/step - loss: 7.2463e-04 - val_loss: 5.8486e-04\n",
      "Epoch 67/80\n",
      "4600/4600 [==============================] - 13s 3ms/step - loss: 7.2371e-04 - val_loss: 5.6683e-04\n",
      "Epoch 68/80\n",
      "4600/4600 [==============================] - 13s 3ms/step - loss: 6.7119e-04 - val_loss: 5.1736e-04\n",
      "Epoch 69/80\n",
      "4600/4600 [==============================] - 13s 3ms/step - loss: 7.1062e-04 - val_loss: 5.0057e-04\n",
      "Epoch 70/80\n",
      "4600/4600 [==============================] - 13s 3ms/step - loss: 6.9244e-04 - val_loss: 5.3650e-04\n",
      "Epoch 71/80\n",
      "4600/4600 [==============================] - 14s 3ms/step - loss: 7.0459e-04 - val_loss: 5.3461e-043\n",
      "Epoch 72/80\n",
      "4600/4600 [==============================] - 13s 3ms/step - loss: 6.8998e-04 - val_loss: 4.9525e-04\n",
      "Epoch 73/80\n"
     ]
    },
    {
     "name": "stdout",
     "output_type": "stream",
     "text": [
      "4600/4600 [==============================] - 13s 3ms/step - loss: 6.7248e-04 - val_loss: 5.0217e-04\n",
      "Epoch 74/80\n",
      "4600/4600 [==============================] - 13s 3ms/step - loss: 7.1318e-04 - val_loss: 6.3357e-04\n",
      "Epoch 75/80\n",
      "4600/4600 [==============================] - 13s 3ms/step - loss: 6.9748e-04 - val_loss: 5.0405e-04\n",
      "Epoch 76/80\n",
      "4600/4600 [==============================] - 14s 3ms/step - loss: 6.8675e-04 - val_loss: 6.8299e-04\n",
      "Epoch 77/80\n",
      "4480/4600 [============================>.] - ETA: 0s - loss: 6.9043e-04- ETA"
     ]
    }
   ],
   "source": [
    "# 超参数\n",
    "epochs = 100\n",
    "batch_size = 64\n",
    "inputs = Input(shape=(time_stamp, 1))\n",
    "conv = Conv1D(filters=128,kernel_size=2,padding='same',input_shape=(time_stamp,1))(inputs)\n",
    "pool = MaxPooling1D(pool_size=2,padding='valid')(conv)\n",
    "conv2 = Conv1D(filters=128,kernel_size=2,padding='same')(pool)\n",
    "pool2 = MaxPooling1D(pool_size=2,padding='valid')(conv2)\n",
    "flatten = Flatten()(pool2)\n",
    "dense = Dense(128)(flatten)\n",
    "re = RepeatVector(1)(dense)\n",
    "#lstm_out = Bidirectional(LSTM(lstm_units, activation='relu'), name='bilstm')(x)\n",
    "lstm_out = LSTM(128, return_sequences=True)(pool2)\n",
    "drop2 = Dropout(0.5)(lstm_out)\n",
    "lstm_out2 = LSTM(128)(drop2)\n",
    "output = Dense(1)(lstm_out2)\n",
    "model = Model(inputs=inputs, outputs=output)\n",
    "model.compile(loss='mse', optimizer='adam')\n",
    "work = model.fit(x_train, y_train, epochs=epochs, batch_size=batch_size,\n",
    "                 validation_data=(x_valid, y_valid), verbose=1)"
   ]
  },
  {
   "cell_type": "code",
   "execution_count": null,
   "metadata": {
    "ExecuteTime": {
     "start_time": "2021-05-15T16:13:22.239Z"
    }
   },
   "outputs": [],
   "source": [
    "#预测值\n",
    "y = model.predict(x_valid)\n",
    "# 反归一化\n",
    "predict = scaler1.inverse_transform(y)\n",
    "true = scaler1.inverse_transform(y_valid)\n",
    "#rmse\n",
    "rmse= np.sqrt(np.mean(np.power((true - predict), 2)))\n",
    "print(rmse)\n",
    "mape = np.mean(np.abs((true - predict) / true)) * 100\n",
    "print(mape)"
   ]
  },
  {
   "cell_type": "code",
   "execution_count": null,
   "metadata": {
    "ExecuteTime": {
     "start_time": "2021-05-15T16:13:22.240Z"
    }
   },
   "outputs": [],
   "source": [
    "plt.plot(work.history['loss'], label='train', color='b')\n",
    "plt.legend()\n",
    "plt.show()\n",
    "plt.plot(work.history['val_loss'], label='valid',color='r')\n",
    "plt.legend()\n",
    "plt.show()"
   ]
  },
  {
   "cell_type": "code",
   "execution_count": null,
   "metadata": {
    "ExecuteTime": {
     "start_time": "2021-05-15T16:13:22.242Z"
    }
   },
   "outputs": [],
   "source": [
    "plt.figure(figsize=(16, 8))\n",
    "predict = predict.reshape(1,-1)[0]\n",
    "valid = valid.reshape(1,-1)[0]\n",
    "plt.plot(np.arange(len(predict)),predict,label='CNN-LSTM',color='r')\n",
    "plt.plot(np.arange(len(true)),true,label='TRUE',color='b')\n",
    "plt.legend()\n",
    "plt.show()"
   ]
  },
  {
   "cell_type": "code",
   "execution_count": null,
   "metadata": {
    "ExecuteTime": {
     "start_time": "2021-05-15T16:13:22.243Z"
    }
   },
   "outputs": [],
   "source": [
    "print(x_train.shape)\n",
    "import keras\n",
    "# 查看模型层及参数\n",
    "model.summary()\n",
    "# 将模型结构保存为图片\n",
    "keras.utils.plot_model(model,to_file='cnn-lstm.png', show_shapes=True)\n"
   ]
  },
  {
   "cell_type": "code",
   "execution_count": null,
   "metadata": {
    "ExecuteTime": {
     "start_time": "2021-05-15T16:13:22.245Z"
    }
   },
   "outputs": [],
   "source": [
    "print(train.shape,x_train.shape,y_train.shape,x_valid.shape,y_valid.shape)"
   ]
  },
  {
   "cell_type": "code",
   "execution_count": null,
   "metadata": {},
   "outputs": [],
   "source": []
  }
 ],
 "metadata": {
  "kernelspec": {
   "display_name": "Python 3",
   "language": "python",
   "name": "python3"
  },
  "language_info": {
   "codemirror_mode": {
    "name": "ipython",
    "version": 3
   },
   "file_extension": ".py",
   "mimetype": "text/x-python",
   "name": "python",
   "nbconvert_exporter": "python",
   "pygments_lexer": "ipython3",
   "version": "3.7.4"
  },
  "toc": {
   "base_numbering": 1,
   "nav_menu": {},
   "number_sections": true,
   "sideBar": true,
   "skip_h1_title": false,
   "title_cell": "Table of Contents",
   "title_sidebar": "Contents",
   "toc_cell": false,
   "toc_position": {},
   "toc_section_display": true,
   "toc_window_display": false
  },
  "varInspector": {
   "cols": {
    "lenName": 16,
    "lenType": 16,
    "lenVar": 40
   },
   "kernels_config": {
    "python": {
     "delete_cmd_postfix": "",
     "delete_cmd_prefix": "del ",
     "library": "var_list.py",
     "varRefreshCmd": "print(var_dic_list())"
    },
    "r": {
     "delete_cmd_postfix": ") ",
     "delete_cmd_prefix": "rm(",
     "library": "var_list.r",
     "varRefreshCmd": "cat(var_dic_list()) "
    }
   },
   "types_to_exclude": [
    "module",
    "function",
    "builtin_function_or_method",
    "instance",
    "_Feature"
   ],
   "window_display": false
  }
 },
 "nbformat": 4,
 "nbformat_minor": 2
}
